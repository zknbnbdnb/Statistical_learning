{
 "cells": [
  {
   "cell_type": "code",
   "execution_count": 1,
   "metadata": {
    "collapsed": true
   },
   "outputs": [],
   "source": [
    "# 导包"
   ]
  },
  {
   "cell_type": "code",
   "execution_count": 2,
   "outputs": [],
   "source": [
    "import random\n",
    "from matplotlib import pyplot as plt\n",
    "from sklearn.metrics import confusion_matrix, classification_report, ConfusionMatrixDisplay\n",
    "from sklearn.preprocessing import LabelBinarizer\n",
    "import numpy as np\n",
    "import scipy.io as sio\n",
    "from sklearn.datasets import load_svmlight_files\n",
    "from sklearn.preprocessing import LabelEncoder\n",
    "from sklearn.model_selection import train_test_split\n",
    "from sklearn.decomposition import PCA\n",
    "from sklearn.model_selection import KFold"
   ],
   "metadata": {
    "collapsed": false,
    "pycharm": {
     "name": "#%%\n"
    }
   }
  },
  {
   "cell_type": "code",
   "execution_count": 3,
   "outputs": [],
   "source": [
    "# 读取数据的接口"
   ],
   "metadata": {
    "collapsed": false,
    "pycharm": {
     "name": "#%%\n"
    }
   }
  },
  {
   "cell_type": "code",
   "execution_count": 4,
   "outputs": [],
   "source": [
    "def readPIE():\n",
    "    data = sio.loadmat('D:\\pytorch\\统计学习方法实践\\datasets\\PIE.mat')\n",
    "    X,y = data['fea'].astype(np.float64),data['gnd'].ravel()\n",
    "    y = LabelEncoder().fit(y).transform(y).astype(np.float64)\n",
    "    return X,y\n",
    "\n",
    "\n",
    "def readBooks():\n",
    "    file = 'D:\\pytorch\\统计学习方法实践\\datasets\\\\books.svmlight'\n",
    "    X, y = load_svmlight_files([file])\n",
    "    X = X.toarray()\n",
    "    y = LabelEncoder().fit(y).transform(y).astype(np.float64)\n",
    "    #X = scale(X)\n",
    "    return X,y\n",
    "\n",
    "\n",
    "    '''\n",
    "    X: 数据\n",
    "    y: 标签\n",
    "    '''"
   ],
   "metadata": {
    "collapsed": false,
    "pycharm": {
     "name": "#%%\n"
    }
   }
  },
  {
   "cell_type": "code",
   "execution_count": 5,
   "outputs": [],
   "source": [
    "# 激活函数和其导数"
   ],
   "metadata": {
    "collapsed": false,
    "pycharm": {
     "name": "#%%\n"
    }
   }
  },
  {
   "cell_type": "code",
   "execution_count": 6,
   "outputs": [],
   "source": [
    "def logistic(x):\n",
    "    return 1 / (1 + np.exp(-x))\n",
    "\n",
    "\n",
    "def logistic_derivative(x):\n",
    "    return logistic(x) * (1 - logistic(x))\n",
    "\n",
    "\n",
    "    '''\n",
    "    @x: 要激活的数值\n",
    "    fun: sigmoid\n",
    "    '''"
   ],
   "metadata": {
    "collapsed": false,
    "pycharm": {
     "name": "#%%\n"
    }
   }
  },
  {
   "cell_type": "code",
   "execution_count": 7,
   "outputs": [],
   "source": [
    "# ANN算法模块"
   ],
   "metadata": {
    "collapsed": false,
    "pycharm": {
     "name": "#%%\n"
    }
   }
  },
  {
   "cell_type": "code",
   "execution_count": 8,
   "outputs": [],
   "source": [
    "class ANN:\n",
    "    def predict(self, x):\n",
    "        for w, b in zip(self.weights, self.biases):\n",
    "            z = np.dot(x, w) + b\n",
    "            # 计算权重相加再加上偏置后的结果\n",
    "            x = self.activation(z)\n",
    "            # 计算输出值\n",
    "        return self.classes_[np.argmax(x, axis=1)]\n",
    "        # 返回行最大值的索引的类别"
   ],
   "metadata": {
    "collapsed": false,
    "pycharm": {
     "name": "#%%\n"
    }
   }
  },
  {
   "cell_type": "code",
   "execution_count": 9,
   "outputs": [],
   "source": [
    "# BP算法"
   ],
   "metadata": {
    "collapsed": false,
    "pycharm": {
     "name": "#%%\n"
    }
   }
  },
  {
   "cell_type": "code",
   "execution_count": 10,
   "outputs": [],
   "source": [
    "class BP(ANN):\n",
    "    def __init__(self, layers, batch):\n",
    "        self.layers = layers\n",
    "        self.num_layers = len(layers)\n",
    "        self.batch = batch\n",
    "        self.activation = logistic\n",
    "        self.activation_deactivation = logistic_derivative\n",
    "        self.biases = [np.random.rand(x) for x in layers[1:]]\n",
    "        self.weights = [np.random.rand(x, y) for x, y in zip(layers[: -1], layers[1:])]\n",
    "        # 返回一组服从标准正态分布的随机权重和偏置。\n",
    "    '''\n",
    "    参数初始化\n",
    "    :@layers: 层数\n",
    "    :@num_layers: 层数数量\n",
    "    :@batch: 批数\n",
    "    :@activation: 激活函数\n",
    "    :@activation_deactivation: 激活函数的导数\n",
    "    :@biases: 偏置\n",
    "    :@weights: 权重\n",
    "    '''\n",
    "\n",
    "    def fit(self, x, y, lr, epochs):\n",
    "        label_bin = LabelBinarizer()\n",
    "        # 将标签以一对多的方式二值化，效果与one-hot类似\n",
    "        y = label_bin.fit_transform(y)\n",
    "        self.classes_ = label_bin.classes_\n",
    "        # 保留每个类别的标签\n",
    "        train_data = [(x, y) for x, y in zip(x, y)]\n",
    "        n = len(train_data)\n",
    "        # 获取数据长度\n",
    "        for i in range(epochs):\n",
    "            random.shuffle(train_data)\n",
    "            # 打乱数据\n",
    "            batches = [train_data[k: k + self.batch] for k in range(0, n, self.batch)]\n",
    "            # 批量梯度下降\n",
    "            for sub_batch in batches:\n",
    "                sub_x = []\n",
    "                sub_y = []\n",
    "                for tmp_x, tmp_y in sub_batch:\n",
    "                    sub_x.append(tmp_x)\n",
    "                    sub_y.append(tmp_y)\n",
    "                activations = [np.array(sub_x)]\n",
    "                # 前向传播\n",
    "                for w, b in zip(self.weights, self.biases):\n",
    "                    # 计算激活函数的参数\n",
    "                    '''计算公式: wx + b (权重乘输入加上偏置)'''\n",
    "                    res = np.dot(activations[-1], w) + b\n",
    "                    output = self.activation(res)\n",
    "                    # 将本次输入放入列表，以便方向传播更新权重\n",
    "                    activations.append(output)\n",
    "                # 计算误差值\n",
    "                err = activations[-1] - np.array(sub_y)\n",
    "                # 计算输出层的误差率\n",
    "                details = [err * self.activation_deactivation(activations[-1])]\n",
    "                # 反向循环计算隐层的误差率，从倒数第二层开始\n",
    "                for i in range(self.num_layers - 2, 0, -1):\n",
    "                    '''计算公式: 激活函数得到的值进行求导并乘上 每上一个的错误率再乘当前权重的转置的结果'''\n",
    "                    details.append(self.activation_deactivation(activations[i]) *\n",
    "                                    np.dot(details[-1], self.weights[i].T))\n",
    "                # 将各层的误差颠倒，准备逐层更新权重和偏置\n",
    "                details.reverse()\n",
    "                for j in range(self.num_layers - 1):\n",
    "                    # 权重的增量\n",
    "                    '''计算公式: 学习率 * (dot(错误率, 输出值)) / 批数'''\n",
    "                    details = lr * ((np.atleast_2d(activations[j].sum(axis=0)).T).dot(np.atleast_2d(\n",
    "                        details[j].sum(axis=0) / self.batch\n",
    "                    )))\n",
    "                    # 更新权重\n",
    "                    self.weights[j] -= details\n",
    "                    # 偏置的增量\n",
    "                    '''计算公式: 学习率 * 错误率'''\n",
    "                    details = lr * details[j].sum(axis=0) / self.batch\n",
    "                    # 更新偏置\n",
    "                    self.biases[j] -= details\n",
    "        return self\n",
    "    '''\n",
    "    :@x: 训练数据\n",
    "    :@y: 训练标签\n",
    "    :@lr: 学习率\n",
    "    \"@epochs: 轮数\n",
    "    '''"
   ],
   "metadata": {
    "collapsed": false,
    "pycharm": {
     "name": "#%%\n"
    }
   }
  },
  {
   "cell_type": "code",
   "execution_count": 11,
   "outputs": [],
   "source": [
    "# 主函数部分，读取数据并进行切分"
   ],
   "metadata": {
    "collapsed": false,
    "pycharm": {
     "name": "#%%\n"
    }
   }
  },
  {
   "cell_type": "code",
   "execution_count": 12,
   "outputs": [
    {
     "name": "stdout",
     "output_type": "stream",
     "text": [
      "[[6. 8. 8. ... 0. 0. 0.]\n",
      " [1. 1. 0. ... 0. 0. 0.]\n",
      " [2. 1. 1. ... 0. 0. 0.]\n",
      " ...\n",
      " [1. 0. 1. ... 0. 0. 0.]\n",
      " [3. 0. 0. ... 0. 0. 0.]\n",
      " [6. 2. 4. ... 0. 0. 0.]] [1. 1. 0. ... 0. 1. 1.]\n"
     ]
    }
   ],
   "source": [
    "X, y = readBooks()\n",
    "print(X, y)\n",
    "# 切割数据集\n",
    "X_train, X_test, y_train, y_test = train_test_split(X, y, test_size=0.3, random_state=2022)"
   ],
   "metadata": {
    "collapsed": false,
    "pycharm": {
     "name": "#%%\n"
    }
   }
  },
  {
   "cell_type": "code",
   "execution_count": 13,
   "outputs": [],
   "source": [
    "# 训练并得出预测标签"
   ],
   "metadata": {
    "collapsed": false,
    "pycharm": {
     "name": "#%%\n"
    }
   }
  },
  {
   "cell_type": "code",
   "execution_count": 16,
   "outputs": [
    {
     "name": "stderr",
     "output_type": "stream",
     "text": [
      "C:\\Users\\ZK1307~1\\AppData\\Local\\Temp/ipykernel_20164/3383305609.py:2: RuntimeWarning: overflow encountered in exp\n",
      "  return 1 / (1 + np.exp(-x))\n"
     ]
    },
    {
     "ename": "IndexError",
     "evalue": "index 26 is out of bounds for axis 0 with size 2",
     "output_type": "error",
     "traceback": [
      "\u001B[1;31m---------------------------------------------------------------------------\u001B[0m",
      "\u001B[1;31mIndexError\u001B[0m                                Traceback (most recent call last)",
      "\u001B[1;32mC:\\Users\\ZK1307~1\\AppData\\Local\\Temp/ipykernel_20164/3321489848.py\u001B[0m in \u001B[0;36m<module>\u001B[1;34m\u001B[0m\n\u001B[0;32m      1\u001B[0m \u001B[0mclf\u001B[0m \u001B[1;33m=\u001B[0m \u001B[0mBP\u001B[0m\u001B[1;33m(\u001B[0m\u001B[1;33m[\u001B[0m\u001B[0mX_train\u001B[0m\u001B[1;33m.\u001B[0m\u001B[0mshape\u001B[0m\u001B[1;33m[\u001B[0m\u001B[1;36m1\u001B[0m\u001B[1;33m]\u001B[0m\u001B[1;33m,\u001B[0m \u001B[1;36m68\u001B[0m\u001B[1;33m]\u001B[0m\u001B[1;33m,\u001B[0m \u001B[1;36m100\u001B[0m\u001B[1;33m)\u001B[0m\u001B[1;33m.\u001B[0m\u001B[0mfit\u001B[0m\u001B[1;33m(\u001B[0m\u001B[0mx\u001B[0m\u001B[1;33m=\u001B[0m\u001B[0mX_train\u001B[0m\u001B[1;33m,\u001B[0m \u001B[0my\u001B[0m\u001B[1;33m=\u001B[0m\u001B[0my_train\u001B[0m\u001B[1;33m,\u001B[0m \u001B[0mlr\u001B[0m\u001B[1;33m=\u001B[0m\u001B[1;36m1e-1\u001B[0m\u001B[1;33m,\u001B[0m \u001B[0mepochs\u001B[0m\u001B[1;33m=\u001B[0m\u001B[1;36m3000\u001B[0m\u001B[1;33m)\u001B[0m\u001B[1;33m\u001B[0m\u001B[1;33m\u001B[0m\u001B[0m\n\u001B[1;32m----> 2\u001B[1;33m \u001B[0mpredict_label\u001B[0m \u001B[1;33m=\u001B[0m \u001B[0mclf\u001B[0m\u001B[1;33m.\u001B[0m\u001B[0mpredict\u001B[0m\u001B[1;33m(\u001B[0m\u001B[0mX_test\u001B[0m\u001B[1;33m)\u001B[0m\u001B[1;33m\u001B[0m\u001B[1;33m\u001B[0m\u001B[0m\n\u001B[0m",
      "\u001B[1;32mC:\\Users\\ZK1307~1\\AppData\\Local\\Temp/ipykernel_20164/3049703824.py\u001B[0m in \u001B[0;36mpredict\u001B[1;34m(self, x)\u001B[0m\n\u001B[0;32m      6\u001B[0m             \u001B[0mx\u001B[0m \u001B[1;33m=\u001B[0m \u001B[0mself\u001B[0m\u001B[1;33m.\u001B[0m\u001B[0mactivation\u001B[0m\u001B[1;33m(\u001B[0m\u001B[0mz\u001B[0m\u001B[1;33m)\u001B[0m\u001B[1;33m\u001B[0m\u001B[1;33m\u001B[0m\u001B[0m\n\u001B[0;32m      7\u001B[0m             \u001B[1;31m# 计算输出值\u001B[0m\u001B[1;33m\u001B[0m\u001B[1;33m\u001B[0m\u001B[1;33m\u001B[0m\u001B[0m\n\u001B[1;32m----> 8\u001B[1;33m         \u001B[1;32mreturn\u001B[0m \u001B[0mself\u001B[0m\u001B[1;33m.\u001B[0m\u001B[0mclasses_\u001B[0m\u001B[1;33m[\u001B[0m\u001B[0mnp\u001B[0m\u001B[1;33m.\u001B[0m\u001B[0margmax\u001B[0m\u001B[1;33m(\u001B[0m\u001B[0mx\u001B[0m\u001B[1;33m,\u001B[0m \u001B[0maxis\u001B[0m\u001B[1;33m=\u001B[0m\u001B[1;36m1\u001B[0m\u001B[1;33m)\u001B[0m\u001B[1;33m]\u001B[0m\u001B[1;33m\u001B[0m\u001B[1;33m\u001B[0m\u001B[0m\n\u001B[0m\u001B[0;32m      9\u001B[0m         \u001B[1;31m# 返回行最大值的索引的类别\u001B[0m\u001B[1;33m\u001B[0m\u001B[1;33m\u001B[0m\u001B[1;33m\u001B[0m\u001B[0m\n",
      "\u001B[1;31mIndexError\u001B[0m: index 26 is out of bounds for axis 0 with size 2"
     ]
    }
   ],
   "source": [
    "clf = BP([X_train.shape[1], 68], 100).fit(x=X_train, y=y_train, lr=1e-1, epochs=3000)\n",
    "predict_label = clf.predict(X_test)"
   ],
   "metadata": {
    "collapsed": false,
    "pycharm": {
     "name": "#%%\n"
    }
   }
  },
  {
   "cell_type": "code",
   "execution_count": null,
   "outputs": [],
   "source": [
    "# 画出混淆矩阵，并且可视化保存"
   ],
   "metadata": {
    "collapsed": false,
    "pycharm": {
     "name": "#%%\n"
    }
   }
  },
  {
   "cell_type": "code",
   "execution_count": null,
   "outputs": [],
   "source": [
    "confusion_mat = confusion_matrix(y_test, predict_label)\n",
    "print(confusion_mat)\n",
    "classes = [i for i in range(68)]\n",
    "disp = ConfusionMatrixDisplay(confusion_matrix=confusion_mat, display_labels=classes)\n",
    "disp.plot(include_values=False)  # 混淆矩阵每个单元格上显示具体数值)\n",
    "\n",
    "plt.savefig(\"a\", dpi=1000, bbox_inches=\"tight\")\n",
    "plt.show()"
   ],
   "metadata": {
    "collapsed": false,
    "pycharm": {
     "name": "#%%\n"
    }
   }
  },
  {
   "cell_type": "code",
   "execution_count": null,
   "outputs": [],
   "source": [
    "# 最会利用包中函数来查看预测的准确率，召回率和f1-score"
   ],
   "metadata": {
    "collapsed": false,
    "pycharm": {
     "name": "#%%\n"
    }
   }
  },
  {
   "cell_type": "code",
   "execution_count": null,
   "outputs": [],
   "source": [
    "print(classification_report(y_test, predict_label))\n",
    "a = classification_report(y_test, predict_label)"
   ],
   "metadata": {
    "collapsed": false,
    "pycharm": {
     "name": "#%%\n"
    }
   }
  },
  {
   "cell_type": "code",
   "execution_count": null,
   "outputs": [],
   "source": [
    "# knn算法部分"
   ],
   "metadata": {
    "collapsed": false,
    "pycharm": {
     "name": "#%%\n"
    }
   }
  },
  {
   "cell_type": "code",
   "execution_count": null,
   "outputs": [],
   "source": [
    "def KNN(test_data1,train_data_pca,train_label,k,p):\n",
    "    sub_mat = train_data_pca - test_data1\n",
    "    sub_mat = np.abs(sub_mat)\n",
    "    distance = sub_mat ** p\n",
    "    distance = np.sum(distance, axis=1)\n",
    "    distance = distance ** (1.0 / p)\n",
    "    distance_index = np.argsort(distance)\n",
    "    class_count = [0 for i in range(68)]\n",
    "    for i in range(k):\n",
    "        label = train_label[distance_index[i]]\n",
    "        class_count[label] += 1\n",
    "    return np.argmax(class_count)\n",
    "\n",
    "# 测试算法\n",
    "def test(k, p):\n",
    "    print(\"testing with K = %d and p = %d\" % (k, p))\n",
    "    m, n = np.shape(X_test_pca)\n",
    "    correctCount = 0\n",
    "    for i in range(m):\n",
    "        test_data1 = X_test_pca[i, :]\n",
    "        predict_label = KNN(test_data1, X_train_pca, y_train, k, p)\n",
    "        true_label = y_test[i]\n",
    "        if true_label == predict_label:\n",
    "            correctCount += 1\n",
    "    print(\"The accuracy is: %f\" % (float(correctCount) / m))\n",
    "    return float(correctCount) / m\n",
    "\n",
    "X,y = readPIE()\n",
    "\n",
    "pred, preds = [], []\n",
    "# X_train, X_test, y_train, y_test = train_test_split(X, y, test_size=0.3, random_state=42)\n",
    "\n",
    "kf = KFold(n_splits=5, shuffle=True, random_state=2022)\n",
    "\n",
    "for trn_idx, tt_idx in kf.split(X):\n",
    "    X_train, y_train, X_test, y_test = X[trn_idx], y[trn_idx], X[tt_idx], y[tt_idx]\n",
    "\n",
    "    pca = PCA(n_components=68)\n",
    "    pca.fit(X_train)\n",
    "    X_train_pca = pca.transform(X_train)\n",
    "    X_test_pca = pca.transform(X_test)\n",
    "\n",
    "    pred.append(test(1, 1))\n",
    "\n",
    "print(\"每个分割的准确率为: {}\".format(pred))\n",
    "print(\"平均准确率为: {}\".format(sum(pred) / len(pred))\n",
    "      )"
   ],
   "metadata": {
    "collapsed": false,
    "pycharm": {
     "name": "#%%\n"
    }
   }
  }
 ],
 "metadata": {
  "kernelspec": {
   "display_name": "Python 3",
   "language": "python",
   "name": "python3"
  },
  "language_info": {
   "codemirror_mode": {
    "name": "ipython",
    "version": 2
   },
   "file_extension": ".py",
   "mimetype": "text/x-python",
   "name": "python",
   "nbconvert_exporter": "python",
   "pygments_lexer": "ipython2",
   "version": "2.7.6"
  }
 },
 "nbformat": 4,
 "nbformat_minor": 0
}