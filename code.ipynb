{
 "cells": [
  {
   "cell_type": "code",
   "execution_count": 1,
   "metadata": {
    "collapsed": true
   },
   "outputs": [],
   "source": [
    "# 导包"
   ]
  },
  {
   "cell_type": "code",
   "execution_count": 2,
   "outputs": [],
   "source": [
    "import time\n",
    "import numpy as np\n",
    "import scipy.io as sio\n",
    "from sklearn.datasets import load_svmlight_files\n",
    "from sklearn.preprocessing import scale,LabelEncoder\n",
    "from sklearn.decomposition import PCA\n",
    "from sklearn.neighbors import KNeighborsClassifier\n",
    "from sklearn.model_selection import KFold, train_test_split\n",
    "import numpy as np\n",
    "import scipy.linalg as la\n",
    "import scipy.io as sio\n",
    "from sklearn.datasets import load_svmlight_files\n",
    "from sklearn.preprocessing import scale,LabelEncoder\n",
    "from sklearn.model_selection import train_test_split\n",
    "from scipy.optimize import minimize"
   ],
   "metadata": {
    "collapsed": false,
    "pycharm": {
     "name": "#%%\n"
    }
   }
  },
  {
   "cell_type": "code",
   "execution_count": 3,
   "outputs": [],
   "source": [
    "# 数据接口"
   ],
   "metadata": {
    "collapsed": false,
    "pycharm": {
     "name": "#%%\n"
    }
   }
  },
  {
   "cell_type": "code",
   "execution_count": 4,
   "outputs": [],
   "source": [
    "def readPIE():\n",
    "    data = sio.loadmat('D:\\pytorch\\统计学习方法实践\\datasets\\PIE.mat')\n",
    "    X,y = data['fea'].astype(np.float64),data['gnd'].ravel()\n",
    "    y = LabelEncoder().fit(y).transform(y).astype(int)\n",
    "    #X = scale(X / X.sum(axis=1,keepdims=True))\n",
    "    return X,y\n",
    "\n",
    "def readBooks():\n",
    "    file = 'D:\\pytorch\\统计学习方法实践\\datasets\\\\books.svmlight'\n",
    "    X, y = load_svmlight_files([file])\n",
    "    X = X.toarray()\n",
    "    y = LabelEncoder().fit(y).transform(y).astype(np.float64)\n",
    "    #X = scale(X)\n",
    "    return X,y"
   ],
   "metadata": {
    "collapsed": false,
    "pycharm": {
     "name": "#%%\n"
    }
   }
  },
  {
   "cell_type": "code",
   "execution_count": 5,
   "outputs": [],
   "source": [
    "# knn函数"
   ],
   "metadata": {
    "collapsed": false,
    "pycharm": {
     "name": "#%%\n"
    }
   }
  },
  {
   "cell_type": "code",
   "execution_count": 6,
   "outputs": [],
   "source": [
    "def KNN(test_data1,train_data_pca,train_label,k,p):\n",
    "    sub_mat = train_data_pca - test_data1\n",
    "    sub_mat = np.abs(sub_mat)\n",
    "    distance = sub_mat ** p\n",
    "    distance = np.sum(distance, axis=1)\n",
    "    distance = distance ** (1.0 / p)\n",
    "    distance_index = np.argsort(distance)\n",
    "    class_count = [0 for i in range(68)]\n",
    "    for i in range(k):\n",
    "        label = train_label[distance_index[i]]\n",
    "        class_count[label] += 1\n",
    "    return np.argmax(class_count)\n",
    "\n",
    "# 测试算法\n",
    "def test(k, p):\n",
    "    print(\"testing with K = %d and p = %d\" % (k, p))\n",
    "    m, n = np.shape(X_test_pca)\n",
    "    correctCount = 0\n",
    "    for i in range(m):\n",
    "        test_data1 = X_test_pca[i, :]\n",
    "        predict_label = KNN(test_data1, X_train_pca, y_train, k, p)\n",
    "        true_label = y_test[i]\n",
    "        if true_label == predict_label:\n",
    "            correctCount += 1\n",
    "    print(\"The accuracy is: %f\" % (float(correctCount) / m))\n",
    "    return float(correctCount) / m"
   ],
   "metadata": {
    "collapsed": false,
    "pycharm": {
     "name": "#%%\n"
    }
   }
  },
  {
   "cell_type": "code",
   "execution_count": 7,
   "outputs": [],
   "source": [
    "# 算法"
   ],
   "metadata": {
    "collapsed": false,
    "pycharm": {
     "name": "#%%\n"
    }
   }
  },
  {
   "cell_type": "code",
   "execution_count": 9,
   "outputs": [
    {
     "name": "stdout",
     "output_type": "stream",
     "text": [
      "testing with K = 1 and p = 1\n",
      "The accuracy is: 0.982009\n",
      "testing with K = 1 and p = 1\n",
      "The accuracy is: 0.973013\n",
      "testing with K = 1 and p = 1\n",
      "The accuracy is: 0.978979\n",
      "testing with K = 1 and p = 1\n",
      "The accuracy is: 0.983483\n",
      "testing with K = 1 and p = 1\n",
      "The accuracy is: 0.989489\n"
     ]
    }
   ],
   "source": [
    "X,y = readPIE()\n",
    "pred, preds = [], []\n",
    "# X_train, X_test, y_train, y_test = train_test_split(X, y, test_size=0.3, random_state=42)\n",
    "\n",
    "kf = KFold(n_splits=5, shuffle=True, random_state=2022)\n",
    "start = time.perf_counter()\n",
    "\n",
    "for trn_idx, tt_idx in kf.split(X):\n",
    "    X_train, y_train, X_test, y_test = X[trn_idx], y[trn_idx], X[tt_idx], y[tt_idx]\n",
    "\n",
    "    pca = PCA(n_components=68)\n",
    "    pca.fit(X_train)\n",
    "    X_train_pca = pca.transform(X_train)\n",
    "    X_test_pca = pca.transform(X_test)\n",
    "\n",
    "    # X_test_pca = X_test\n",
    "    # X_train_pca = X_train\n",
    "\n",
    "    # clf = KNeighborsClassifier(n_neighbors=5)\n",
    "    # clf.fit(X_train_pca, y_train)\n",
    "    #\n",
    "    # #输出分类报告\n",
    "    # print(classification_report(y_test, clf.predict(X_test_pca)))\n",
    "\n",
    "    # for i in range(1, 10):\n",
    "    #     for j in range(1, 5):\n",
    "    #         pred.append(test(i, j))\n",
    "\n",
    "    pred.append(test(1, 1))\n",
    "\n",
    "\n",
    "end = time.perf_counter()"
   ],
   "metadata": {
    "collapsed": false,
    "pycharm": {
     "name": "#%%\n"
    }
   }
  },
  {
   "cell_type": "code",
   "execution_count": 10,
   "outputs": [
    {
     "name": "stdout",
     "output_type": "stream",
     "text": [
      "每个分割的准确率为: [0.9820089955022488, 0.9730134932533733, 0.978978978978979, 0.9834834834834835, 0.9894894894894894]\n",
      "平均准确率为: 0.9813948881415149\n",
      "耗时为: 6.912548899999997\n"
     ]
    }
   ],
   "source": [
    "print(\"每个分割的准确率为: {}\".format(pred))\n",
    "print(\"平均准确率为: {}\".format(sum(pred) / len(pred)))\n",
    "print(\"耗时为: {}\".format(end - start))"
   ],
   "metadata": {
    "collapsed": false,
    "pycharm": {
     "name": "#%%\n"
    }
   }
  },
  {
   "cell_type": "code",
   "execution_count": 11,
   "outputs": [],
   "source": [
    "# 梯度下降和正规方程"
   ],
   "metadata": {
    "collapsed": false,
    "pycharm": {
     "name": "#%%\n"
    }
   }
  },
  {
   "cell_type": "code",
   "execution_count": 12,
   "outputs": [
    {
     "name": "stdout",
     "output_type": "stream",
     "text": [
      "[0 0 0 ... 0 0 0] [0. 0. 0. ... 0. 0. 0.]\n",
      "[0 0 0 ... 0 0 0] [0. 0. 0. ... 0. 0. 0.]\n",
      "[0 0 0 ... 0 0 0] [0. 0. 0. ... 0. 0. 0.]\n",
      "[0 0 0 ... 0 0 0] [0. 0. 0. ... 0. 0. 0.]\n",
      "[0 0 0 ... 0 0 0] [0. 0. 0. ... 0. 0. 0.]\n",
      "[0 0 0 ... 0 0 0] [0. 0. 0. ... 0. 0. 0.]\n",
      "[0 0 0 ... 0 0 0] [0. 0. 0. ... 0. 0. 0.]\n",
      "[0 0 0 ... 0 0 0] [0. 0. 0. ... 0. 0. 0.]\n",
      "[0 0 0 ... 0 0 0] [0. 0. 0. ... 0. 0. 0.]\n",
      "[0 0 0 ... 0 0 0] [0. 0. 0. ... 0. 0. 0.]\n",
      "[0 0 0 ... 0 0 0] [0. 0. 0. ... 0. 0. 0.]\n",
      "[0 0 0 ... 0 0 0] [0. 0. 0. ... 0. 0. 0.]\n",
      "[0 0 0 ... 0 0 0] [0. 0. 0. ... 0. 0. 0.]\n",
      "[0 0 0 ... 0 0 0] [0. 0. 0. ... 0. 0. 0.]\n",
      "[0 0 0 ... 0 0 0] [0. 0. 0. ... 0. 0. 0.]\n",
      "[0 0 0 ... 0 0 0] [0. 0. 0. ... 0. 0. 0.]\n",
      "[0 0 0 ... 0 1 0] [0. 0. 0. ... 0. 0. 0.]\n",
      "[0 0 0 ... 0 0 0] [0. 0. 0. ... 0. 0. 0.]\n",
      "[0 0 0 ... 0 0 0] [0. 0. 0. ... 0. 0. 0.]\n",
      "[0 0 0 ... 0 0 0] [0. 0. 0. ... 0. 0. 0.]\n",
      "[0 0 0 ... 0 0 0] [0. 0. 0. ... 0. 0. 0.]\n",
      "[0 0 0 ... 0 0 0] [0. 0. 0. ... 0. 0. 0.]\n",
      "[0 0 0 ... 0 0 0] [0. 0. 0. ... 0. 0. 0.]\n",
      "[0 0 0 ... 0 0 0] [0. 0. 0. ... 0. 0. 0.]\n",
      "[0 0 0 ... 0 0 0] [0. 0. 0. ... 0. 0. 0.]\n",
      "[0 0 0 ... 1 0 0] [0. 0. 0. ... 0. 0. 0.]\n",
      "[0 1 0 ... 0 0 0] [0. 0. 0. ... 0. 0. 0.]\n",
      "[0 0 0 ... 0 0 0] [0. 0. 0. ... 0. 0. 0.]\n",
      "[0 0 0 ... 0 0 0] [0. 0. 0. ... 0. 0. 0.]\n",
      "[0 0 0 ... 0 0 0] [0. 0. 0. ... 0. 0. 0.]\n",
      "[0 0 0 ... 0 0 0] [0. 0. 0. ... 0. 0. 0.]\n",
      "[0 0 0 ... 0 0 0] [0. 0. 0. ... 0. 0. 0.]\n",
      "[0 0 0 ... 0 0 0] [0. 0. 0. ... 0. 0. 0.]\n",
      "[0 0 0 ... 0 0 0] [0. 0. 0. ... 0. 0. 0.]\n",
      "[0 0 0 ... 0 0 0] [0. 0. 0. ... 0. 0. 0.]\n",
      "[0 0 0 ... 0 0 0] [0. 0. 0. ... 0. 0. 0.]\n",
      "[0 0 0 ... 0 0 0] [0. 0. 0. ... 0. 0. 0.]\n",
      "[0 0 0 ... 0 0 0] [0. 0. 0. ... 0. 0. 0.]\n",
      "[0 0 0 ... 0 0 0] [0. 0. 0. ... 0. 0. 0.]\n",
      "[0 0 0 ... 0 0 0] [0. 0. 0. ... 0. 0. 0.]\n",
      "[1 0 0 ... 0 0 0] [0. 0. 0. ... 0. 0. 0.]\n",
      "[0 0 0 ... 0 0 0] [0. 0. 0. ... 0. 0. 0.]\n",
      "[0 0 0 ... 0 0 0] [0. 0. 0. ... 0. 0. 0.]\n",
      "[0 0 0 ... 0 0 0] [0. 0. 0. ... 0. 0. 0.]\n",
      "[0 0 0 ... 0 0 0] [0. 0. 0. ... 0. 0. 0.]\n",
      "[0 0 0 ... 0 0 0] [0. 0. 0. ... 0. 0. 0.]\n",
      "[0 0 0 ... 0 0 0] [0. 0. 0. ... 0. 0. 0.]\n",
      "[0 0 0 ... 0 0 0] [0. 0. 0. ... 0. 0. 0.]\n",
      "[0 0 0 ... 0 0 0] [0. 0. 0. ... 0. 0. 0.]\n",
      "[0 0 0 ... 0 0 0] [0. 0. 0. ... 0. 0. 0.]\n",
      "[0 0 0 ... 0 0 0] [0. 0. 0. ... 0. 0. 0.]\n",
      "[0 0 0 ... 0 0 0] [0. 0. 0. ... 0. 0. 0.]\n",
      "[0 0 0 ... 0 0 0] [0. 0. 0. ... 0. 0. 0.]\n",
      "[0 0 1 ... 0 0 0] [0. 0. 0. ... 0. 0. 0.]\n",
      "[0 0 0 ... 0 0 0] [0. 0. 0. ... 0. 0. 0.]\n",
      "[0 0 0 ... 0 0 0] [0. 0. 0. ... 0. 0. 0.]\n",
      "[0 0 0 ... 0 0 0] [0. 0. 0. ... 0. 0. 0.]\n",
      "[0 0 0 ... 0 0 0] [0. 0. 0. ... 0. 0. 0.]\n",
      "[0 0 0 ... 0 0 0] [0. 0. 0. ... 0. 0. 0.]\n",
      "[0 0 0 ... 0 0 0] [0. 0. 0. ... 0. 0. 0.]\n",
      "[0 0 0 ... 0 0 0] [0. 0. 0. ... 0. 0. 0.]\n",
      "[0 0 0 ... 0 0 0] [0. 0. 0. ... 0. 0. 0.]\n",
      "[0 0 0 ... 0 0 0] [0. 0. 0. ... 0. 0. 0.]\n",
      "[0 0 0 ... 0 0 1] [0. 0. 0. ... 0. 0. 0.]\n",
      "[0 0 0 ... 0 0 0] [0. 0. 0. ... 0. 0. 0.]\n",
      "[0 0 0 ... 0 0 0] [0. 0. 0. ... 0. 0. 0.]\n",
      "[0 0 0 ... 0 0 0] [0. 0. 0. ... 0. 0. 0.]\n",
      "[0 0 0 ... 0 0 0] [0. 0. 0. ... 0. 0. 0.]\n",
      "accuracy = 97.0%\n",
      "accuracy_normal = 96.2%\n"
     ]
    }
   ],
   "source": [
    "def sigmoid(z):\n",
    "    return 1 / (1 + np.exp(-z))\n",
    "\n",
    "\n",
    "def regularized_cost(theta, X, y, lamda):\n",
    "    thetaReg = theta[1:]\n",
    "    first = (-y*np.log(sigmoid(X@theta))) + (y-1)*np.log(1-sigmoid(X@theta))\n",
    "    reg = (thetaReg@thetaReg)*lamda / (2*len(X))\n",
    "    return np.mean(first) + reg\n",
    "\n",
    "\n",
    "def regularized_gradient(theta, X, y, l):\n",
    "    thetaReg = theta[1:]\n",
    "    first = (1 / len(X)) * X.T @ (sigmoid(X @ theta) - y)\n",
    "    # 这里人为插入一维0，使得对theta_0不惩罚，方便计算\n",
    "    reg = np.concatenate([np.array([0]), (l / len(X)) * thetaReg])\n",
    "    return first + reg\n",
    "\n",
    "\n",
    "def one_vs_all(X, y, l, K):\n",
    "    all_theta = np.zeros((K, X.shape[1]))  # (10, 401)\n",
    "\n",
    "    for i in range(1, K + 1):\n",
    "        theta = np.zeros(X.shape[1])\n",
    "        y_i = np.array([1 if label == i else 0 for label in y])\n",
    "        print(y_i,theta)\n",
    "        ret = minimize(fun=regularized_cost, x0=theta, args=(X, y_i, l), method='TNC',\n",
    "                        jac=regularized_gradient, options={'disp': True})\n",
    "        all_theta[i - 1, :] = ret.x\n",
    "\n",
    "    return all_theta\n",
    "\n",
    "\n",
    "def one_vs_all_normal(X, y, l, K):\n",
    "    all_theta = np.zeros((K, X.shape[1]))  # (10, 401)\n",
    "\n",
    "    for i in range(1, K + 1):\n",
    "        theta = np.zeros(X.shape[1])\n",
    "        y_i = np.array([1 if label == i else 0 for label in y])\n",
    "\n",
    "        re = la.inv(np.dot(X.T,X) + 0.01 * np.eye(1025)).dot(X.T).dot(y_i)\n",
    "\n",
    "        all_theta[i - 1, :] = re\n",
    "\n",
    "    return all_theta\n",
    "\n",
    "\n",
    "def predict_all(X, all_theta):\n",
    "    h = sigmoid(X @ all_theta.T)  # 注意的这里的all_theta需要转置\n",
    "    h_argmax = np.argmax(h, axis=1)\n",
    "    h_argmax = h_argmax + 1\n",
    "\n",
    "    return h_argmax\n",
    "\n",
    "raw_X, raw_y = readPIE()\n",
    "X = np.insert(raw_X, 0, 1, axis=1) # (5000, 401)\n",
    "y = raw_y.flatten()\n",
    "\n",
    "x_tr,x_te,y_tr,y_te = train_test_split(X,y,test_size=0.3,random_state=42)\n",
    "\n",
    "\n",
    "all_theta = one_vs_all(x_tr, y_tr, 1, 68)\n",
    "y_pred = predict_all(x_te, all_theta)\n",
    "accuracy = np.mean(y_pred == y_te)\n",
    "print ('accuracy = {0}%'.format(accuracy * 100))\n",
    "\n",
    "\n",
    "\n",
    "all_theta_normal = one_vs_all_normal(x_tr, y_tr, 1, 68)\n",
    "y_pred_normal = predict_all(x_te, all_theta_normal)\n",
    "accuracy = np.mean(y_pred_normal == y_te)\n",
    "print ('accuracy_normal = {0}%'.format(accuracy * 100))"
   ],
   "metadata": {
    "collapsed": false,
    "pycharm": {
     "name": "#%%\n"
    }
   }
  },
  {
   "cell_type": "code",
   "execution_count": null,
   "outputs": [],
   "source": [],
   "metadata": {
    "collapsed": false,
    "pycharm": {
     "name": "#%%\n"
    }
   }
  }
 ],
 "metadata": {
  "kernelspec": {
   "display_name": "Python 3",
   "language": "python",
   "name": "python3"
  },
  "language_info": {
   "codemirror_mode": {
    "name": "ipython",
    "version": 2
   },
   "file_extension": ".py",
   "mimetype": "text/x-python",
   "name": "python",
   "nbconvert_exporter": "python",
   "pygments_lexer": "ipython2",
   "version": "2.7.6"
  }
 },
 "nbformat": 4,
 "nbformat_minor": 0
}